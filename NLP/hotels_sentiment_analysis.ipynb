{
 "cells": [
  {
   "cell_type": "code",
   "execution_count": 1,
   "id": "52a1d981",
   "metadata": {},
   "outputs": [],
   "source": [
    "import pandas as pd\n",
    "import seaborn as sns\n",
    "import numpy as np \n",
    "import spacy\n",
    "import nltk\n",
    "import string\n",
    "import matplotlib.pyplot as plt\n",
    "from sklearn.feature_extraction.text import TfidfTransformer\n",
    "from sklearn.feature_extraction.text import TfidfVectorizer\n",
    "from sklearn.feature_extraction.text import CountVectorizer\n",
    "from sklearn.metrics import confusion_matrix\n",
    "from sklearn import metrics\n",
    "from sklearn.metrics import roc_curve, auc\n",
    "from nltk.stem.porter import PorterStemmer\n",
    "import re\n",
    "from textblob import TextBlob\n",
    "from nltk.corpus import stopwords\n",
    "stop_words = set(stopwords.words('english')) #setting the stop words as english\n",
    "from nltk.tokenize import word_tokenize\n",
    "from sklearn.model_selection import train_test_split\n",
    "from sklearn.linear_model import LogisticRegression\n",
    "from wordcloud import WordCloud\n",
    "from sklearn.metrics import accuracy_score, classification_report, confusion_matrix, ConfusionMatrixDisplay"
   ]
  },
  {
   "cell_type": "code",
   "execution_count": null,
   "id": "57ebbad4",
   "metadata": {},
   "outputs": [],
   "source": [
    "import nltk\n",
    "nltk.download('stopwords')"
   ]
  },
  {
   "cell_type": "code",
   "execution_count": null,
   "id": "b710177f",
   "metadata": {},
   "outputs": [],
   "source": []
  },
  {
   "cell_type": "code",
   "execution_count": null,
   "id": "5a2e5338",
   "metadata": {},
   "outputs": [],
   "source": [
    "import warnings\n",
    "warnings.filterwarnings('ignore')"
   ]
  },
  {
   "cell_type": "code",
   "execution_count": null,
   "id": "5657087e",
   "metadata": {},
   "outputs": [],
   "source": [
    "#Each review should be a document\n",
    "#corpus: the body/collection of text to be investigated\n",
    "#document the unit of analysis, what is considered as an observation"
   ]
  },
  {
   "cell_type": "code",
   "execution_count": null,
   "id": "28f28340",
   "metadata": {},
   "outputs": [],
   "source": [
    "!pip install textblob"
   ]
  },
  {
   "cell_type": "code",
   "execution_count": null,
   "id": "4299e82f",
   "metadata": {},
   "outputs": [],
   "source": [
    "!pip install wordcloud"
   ]
  },
  {
   "cell_type": "code",
   "execution_count": 2,
   "id": "047f84d4",
   "metadata": {},
   "outputs": [],
   "source": [
    "df = pd.read_csv('tourist_accommodation_reviews (1).csv')"
   ]
  },
  {
   "cell_type": "code",
   "execution_count": null,
   "id": "bf19b702",
   "metadata": {},
   "outputs": [],
   "source": [
    "df.head() #observe the first five columns"
   ]
  },
  {
   "cell_type": "code",
   "execution_count": 54,
   "id": "e95fb34d",
   "metadata": {},
   "outputs": [],
   "source": [
    "mask = df[df['Review Date']=='Reviewed 2 days ago '] # Subsetting Hotels/Restaurants that were reviewed two days ago"
   ]
  },
  {
   "cell_type": "code",
   "execution_count": 55,
   "id": "1bbde891",
   "metadata": {},
   "outputs": [],
   "source": [
    " hotels_40 = mask['Hotel/Restaurant name'].unique() #create a variable with 40 hotel names"
   ]
  },
  {
   "cell_type": "code",
   "execution_count": 56,
   "id": "f875d82e",
   "metadata": {},
   "outputs": [],
   "source": [
    "list_40_hotels = list(hotels_40) #convert to a list"
   ]
  },
  {
   "cell_type": "code",
   "execution_count": 57,
   "id": "0a1538d1",
   "metadata": {},
   "outputs": [],
   "source": [
    "First_30=list_40_hotels[:30] #take out thirty"
   ]
  },
  {
   "cell_type": "code",
   "execution_count": 58,
   "id": "29886acc",
   "metadata": {},
   "outputs": [
    {
     "data": {
      "text/plain": [
       "30"
      ]
     },
     "execution_count": 58,
     "metadata": {},
     "output_type": "execute_result"
    }
   ],
   "source": [
    "len(First_30) #confirm length"
   ]
  },
  {
   "cell_type": "code",
   "execution_count": 34,
   "id": "ee80b767",
   "metadata": {},
   "outputs": [
    {
     "name": "stdout",
     "output_type": "stream",
     "text": [
      "['Odysseus Greek Organic Restaurant', 'The Palm Cuisine', 'Tandoori Flames', 'Golden Paradise Restaurant', \"Naughty Nuri's Phuket\", 'Sizzle Rooftop Restaurant', 'i-Kroon Cafe', 'Rustic - Eatery & Bar', 'La Gritta', 'Taste Bar & Grill', 'Eightfold Restaurant', 'Black Ginger', 'YamThai Restaurant', 'Ginja Taste', 'Two Chefs Patong', 'Restaurant Break Point', 'Elephant Cafe by Tan', 'Sun Beach Cafe', 'Sawasdee', 'The Sweet Restaurant', 'One Chun Cafe and Restaurant', 'Hard Rock Cafe Phuket', 'Salsa Mexicana', 'Kwong Shop Seafood', 'Madras Cafe', 'Sabai Sabai', 'Sea Fire Salt - Anantara Mai Khao Phuket Villas', 'No 9 Restaurant', 'Lee Pizzeria & Restaurant', 'D Restaurant']\n"
     ]
    }
   ],
   "source": [
    "print(First_30)"
   ]
  },
  {
   "cell_type": "code",
   "execution_count": 61,
   "id": "82e7a507",
   "metadata": {},
   "outputs": [],
   "source": [
    "df1=mask[mask['Hotel/Restaurant name'].isin(First_30)]"
   ]
  },
  {
   "cell_type": "code",
   "execution_count": 66,
   "id": "65703037",
   "metadata": {},
   "outputs": [
    {
     "data": {
      "text/plain": [
       "30"
      ]
     },
     "execution_count": 66,
     "metadata": {},
     "output_type": "execute_result"
    }
   ],
   "source": [
    "df1['Hotel/Restaurant name'].nunique() #confirming number of unique hotel names"
   ]
  },
  {
   "cell_type": "code",
   "execution_count": null,
   "id": "af94393f",
   "metadata": {},
   "outputs": [],
   "source": []
  },
  {
   "cell_type": "code",
   "execution_count": 67,
   "id": "f2503aea",
   "metadata": {},
   "outputs": [
    {
     "name": "stdout",
     "output_type": "stream",
     "text": [
      "<class 'pandas.core.frame.DataFrame'>\n",
      "Int64Index: 41 entries, 101 to 27080\n",
      "Data columns (total 5 columns):\n",
      " #   Column                 Non-Null Count  Dtype \n",
      "---  ------                 --------------  ----- \n",
      " 0   ID                     41 non-null     object\n",
      " 1   Review Date            41 non-null     object\n",
      " 2   Location               41 non-null     object\n",
      " 3   Hotel/Restaurant name  41 non-null     object\n",
      " 4   Review                 41 non-null     object\n",
      "dtypes: object(5)\n",
      "memory usage: 1.9+ KB\n"
     ]
    }
   ],
   "source": [
    "df1.info() #observe the data types in the dataframe"
   ]
  },
  {
   "cell_type": "code",
   "execution_count": 68,
   "id": "86273bd0",
   "metadata": {},
   "outputs": [
    {
     "data": {
      "text/plain": [
       "ID                       0\n",
       "Review Date              0\n",
       "Location                 0\n",
       "Hotel/Restaurant name    0\n",
       "Review                   0\n",
       "dtype: int64"
      ]
     },
     "execution_count": 68,
     "metadata": {},
     "output_type": "execute_result"
    }
   ],
   "source": [
    "df1.isnull().sum() #check the null values"
   ]
  },
  {
   "cell_type": "code",
   "execution_count": 69,
   "id": "27c67baa",
   "metadata": {},
   "outputs": [
    {
     "data": {
      "text/plain": [
       "Index(['ID', 'Review Date', 'Location', 'Hotel/Restaurant name', 'Review'], dtype='object')"
      ]
     },
     "execution_count": 69,
     "metadata": {},
     "output_type": "execute_result"
    }
   ],
   "source": [
    "df1.columns #showing the column names"
   ]
  },
  {
   "cell_type": "code",
   "execution_count": 72,
   "id": "f0cbc713",
   "metadata": {},
   "outputs": [
    {
     "data": {
      "text/html": [
       "<div>\n",
       "<style scoped>\n",
       "    .dataframe tbody tr th:only-of-type {\n",
       "        vertical-align: middle;\n",
       "    }\n",
       "\n",
       "    .dataframe tbody tr th {\n",
       "        vertical-align: top;\n",
       "    }\n",
       "\n",
       "    .dataframe thead th {\n",
       "        text-align: right;\n",
       "    }\n",
       "</style>\n",
       "<table border=\"1\" class=\"dataframe\">\n",
       "  <thead>\n",
       "    <tr style=\"text-align: right;\">\n",
       "      <th></th>\n",
       "      <th>Review</th>\n",
       "    </tr>\n",
       "  </thead>\n",
       "  <tbody>\n",
       "    <tr>\n",
       "      <th>101</th>\n",
       "      <td>Great variety of Greek dishes and fantastic se...</td>\n",
       "    </tr>\n",
       "    <tr>\n",
       "      <th>1290</th>\n",
       "      <td>I am a small business man but keep roaming aro...</td>\n",
       "    </tr>\n",
       "    <tr>\n",
       "      <th>1494</th>\n",
       "      <td>Awesome food quality try specially punjabi foo...</td>\n",
       "    </tr>\n",
       "    <tr>\n",
       "      <th>1495</th>\n",
       "      <td>Wife and I were craving Indian food so we thou...</td>\n",
       "    </tr>\n",
       "    <tr>\n",
       "      <th>1692</th>\n",
       "      <td>Very good restaurant, with a very friendly sta...</td>\n",
       "    </tr>\n",
       "  </tbody>\n",
       "</table>\n",
       "</div>"
      ],
      "text/plain": [
       "                                                 Review\n",
       "101   Great variety of Greek dishes and fantastic se...\n",
       "1290  I am a small business man but keep roaming aro...\n",
       "1494  Awesome food quality try specially punjabi foo...\n",
       "1495  Wife and I were craving Indian food so we thou...\n",
       "1692  Very good restaurant, with a very friendly sta..."
      ]
     },
     "execution_count": 72,
     "metadata": {},
     "output_type": "execute_result"
    }
   ],
   "source": [
    "#Droping off the columns that do not have the reviews so I can focus on the review column\n",
    "review_df = df1.drop(['ID', 'Review Date', 'Location', 'Hotel/Restaurant name'],axis=1)\n",
    "review_df.head()"
   ]
  },
  {
   "cell_type": "code",
   "execution_count": null,
   "id": "47f4c60e",
   "metadata": {},
   "outputs": [],
   "source": []
  },
  {
   "cell_type": "code",
   "execution_count": 73,
   "id": "099208bd",
   "metadata": {},
   "outputs": [
    {
     "name": "stdout",
     "output_type": "stream",
     "text": [
      "Great variety of Greek dishes and fantastic service. Staff was friendly and helpful. I had the souvlaki, it was reasonably priced and tasted great. \n",
      "\n",
      "I am a small business man but keep roaming around. Was wonder one evening where to eat? Find Palm Restaurent inside The Movenpick Bangtao.\r\n",
      "When I was there meet the hotel manager as well.\r\n",
      "He offer me to eat together in this one and only...More \n",
      "\n",
      "Awesome food quality try specially punjabi food and sweet Gulab Jamun in Phuket was not expected this much tasty\r\n",
      "Nice restaurant\r\n",
      "Great service\r\n",
      "Excellent food quality\r\n",
      "Best Indian food in Phuket \n",
      "\n",
      "Wife and I were craving Indian food so we thought we’d give this place a shot. Wow, did it exceed our expectations...The location is in the middle of Patong, close to the beach. The service was outstanding and quick. The food was phenomenal with tons...More \n",
      "\n",
      "Very good restaurant, with a very friendly staff, I recommend it ! I will come again for sure ! <f0><U+009F><U+0091><U+008D><f0><U+009F><U+0091><U+008D> \n",
      "\n",
      "Good food and friendly staff. Indian food was delicious and cooked fast. Staffed naan was even better that at some places in India. Highly recommend this place! \n",
      "\n"
     ]
    }
   ],
   "source": [
    "#Taking a look at the first 3 full text reviews\n",
    "#Looking at this I can see the 'More'...... word very frequent I might have to remove this later\n",
    "print(review_df['Review'].iloc[0], \"\\n\")\n",
    "print(review_df['Review'].iloc[1], \"\\n\")\n",
    "print(review_df['Review'].iloc[2], \"\\n\")\n",
    "print(review_df['Review'].iloc[3], \"\\n\")\n",
    "print(review_df['Review'].iloc[4], \"\\n\")\n",
    "print(review_df['Review'].iloc[5], \"\\n\")"
   ]
  },
  {
   "cell_type": "code",
   "execution_count": 74,
   "id": "2c704b1a",
   "metadata": {},
   "outputs": [
    {
     "name": "stdout",
     "output_type": "stream",
     "text": [
      "<class 'pandas.core.frame.DataFrame'>\n",
      "Int64Index: 41 entries, 101 to 27080\n",
      "Data columns (total 1 columns):\n",
      " #   Column  Non-Null Count  Dtype \n",
      "---  ------  --------------  ----- \n",
      " 0   Review  41 non-null     object\n",
      "dtypes: object(1)\n",
      "memory usage: 656.0+ bytes\n"
     ]
    }
   ],
   "source": [
    "review_df.info()"
   ]
  },
  {
   "cell_type": "code",
   "execution_count": null,
   "id": "17b689d9",
   "metadata": {},
   "outputs": [],
   "source": []
  },
  {
   "cell_type": "code",
   "execution_count": 75,
   "id": "5fef0271",
   "metadata": {},
   "outputs": [
    {
     "name": "stdout",
     "output_type": "stream",
     "text": [
      "{'s', 'again', 'because', 'were', 'weren', 'themselves', 'into', 'who', 'before', 'both', 'll', \"shouldn't\", 'when', 'as', 'too', 'he', 'herself', 'in', 'most', 'under', \"couldn't\", 'them', 'more', 'out', 'through', 'ourselves', \"wasn't\", \"that'll\", 've', \"you've\", 'myself', 'whom', 'don', 'your', 'by', 'should', 'd', 'had', 'down', 'now', \"mightn't\", 'was', 're', \"mustn't\", 'but', 'mightn', 'here', 'will', 'just', 'my', 'off', 'same', \"you'll\", 'yourselves', 'the', \"won't\", 'then', \"you'd\", 'than', 'their', 'didn', 'doesn', 'or', \"hadn't\", 'shan', 'does', 'on', 'this', \"wouldn't\", 'yourself', 'each', 'its', 'no', \"weren't\", 'she', 'our', 'how', 'that', 'i', 'only', 'until', 'wasn', 't', 'o', 'they', 'not', 'wouldn', 'y', \"didn't\", 'above', 'during', 'which', 'shouldn', \"needn't\", 'those', 'below', 'itself', 'mustn', 'a', 'hers', 'some', 'haven', \"shan't\", \"she's\", 'why', \"you're\", 'hadn', 'further', 'are', 'having', 'can', 'any', \"should've\", 'of', 'himself', 'been', 'ours', 'all', 'being', \"hasn't\", 'once', 'an', 'while', 'm', 'with', 'at', 'it', \"don't\", 'few', 'for', 'couldn', \"it's\", 'about', 'needn', 'isn', 'ain', 'such', 'over', \"doesn't\", 'have', 'we', 'did', 'has', 'so', 'his', 'between', 'ma', 'to', 'you', 'there', 'if', 'do', 'be', 'is', 'am', 'what', 'aren', \"aren't\", 'me', 'after', \"isn't\", 'against', 'very', 'from', 'these', \"haven't\", 'yours', 'up', 'where', 'nor', 'hasn', 'him', 'own', 'and', 'doing', 'other', 'won', 'her', 'theirs'}\n"
     ]
    }
   ],
   "source": [
    "print(stop_words)"
   ]
  },
  {
   "cell_type": "code",
   "execution_count": 76,
   "id": "f465cff7",
   "metadata": {},
   "outputs": [
    {
     "data": {
      "text/plain": [
       "True"
      ]
     },
     "execution_count": 76,
     "metadata": {},
     "output_type": "execute_result"
    }
   ],
   "source": [
    "'more' in stop_words"
   ]
  },
  {
   "cell_type": "code",
   "execution_count": null,
   "id": "95fbfe67",
   "metadata": {},
   "outputs": [],
   "source": []
  },
  {
   "cell_type": "code",
   "execution_count": 77,
   "id": "ee3ea2ff",
   "metadata": {},
   "outputs": [],
   "source": [
    "def data_processing(text):\n",
    "    text = text.lower() #converting it to lower case\n",
    "    text_tokens = word_tokenize(text) #tokenization\n",
    "    filtered_text = [w for w in text_tokens if not w in stop_words] # removing stop words\n",
    "    return \" \".join(filtered_text)"
   ]
  },
  {
   "cell_type": "code",
   "execution_count": 78,
   "id": "0e466efb",
   "metadata": {},
   "outputs": [],
   "source": [
    "review_df.Review = review_df['Review'].apply(data_processing)"
   ]
  },
  {
   "cell_type": "code",
   "execution_count": 83,
   "id": "69248644",
   "metadata": {},
   "outputs": [],
   "source": [
    "reviews = review_df"
   ]
  },
  {
   "cell_type": "code",
   "execution_count": 90,
   "id": "01743e00",
   "metadata": {},
   "outputs": [
    {
     "data": {
      "text/html": [
       "<div>\n",
       "<style scoped>\n",
       "    .dataframe tbody tr th:only-of-type {\n",
       "        vertical-align: middle;\n",
       "    }\n",
       "\n",
       "    .dataframe tbody tr th {\n",
       "        vertical-align: top;\n",
       "    }\n",
       "\n",
       "    .dataframe thead th {\n",
       "        text-align: right;\n",
       "    }\n",
       "</style>\n",
       "<table border=\"1\" class=\"dataframe\">\n",
       "  <thead>\n",
       "    <tr style=\"text-align: right;\">\n",
       "      <th></th>\n",
       "      <th>Review</th>\n",
       "    </tr>\n",
       "  </thead>\n",
       "  <tbody>\n",
       "    <tr>\n",
       "      <th>101</th>\n",
       "      <td>great variety greek dishes fantastic service ....</td>\n",
       "    </tr>\n",
       "    <tr>\n",
       "      <th>1290</th>\n",
       "      <td>small business man keep roaming around . wonde...</td>\n",
       "    </tr>\n",
       "    <tr>\n",
       "      <th>1494</th>\n",
       "      <td>awesome food quality try specially punjabi foo...</td>\n",
       "    </tr>\n",
       "    <tr>\n",
       "      <th>1495</th>\n",
       "      <td>wife craving indian food thought ’ give place ...</td>\n",
       "    </tr>\n",
       "    <tr>\n",
       "      <th>1692</th>\n",
       "      <td>good restaurant , friendly staff , recommend !...</td>\n",
       "    </tr>\n",
       "    <tr>\n",
       "      <th>1693</th>\n",
       "      <td>good food friendly staff . indian food delicio...</td>\n",
       "    </tr>\n",
       "    <tr>\n",
       "      <th>2191</th>\n",
       "      <td>recommended place fine like eat pork . joint v...</td>\n",
       "    </tr>\n",
       "    <tr>\n",
       "      <th>2192</th>\n",
       "      <td>went tonight recommendation ta must say , ’ fu...</td>\n",
       "    </tr>\n",
       "    <tr>\n",
       "      <th>2193</th>\n",
       "      <td>food lovely staff ! came cocktail shaking danc...</td>\n",
       "    </tr>\n",
       "    <tr>\n",
       "      <th>2194</th>\n",
       "      <td>best meal service , food delicious many choice...</td>\n",
       "    </tr>\n",
       "    <tr>\n",
       "      <th>2776</th>\n",
       "      <td>pleasure visiting sizzle rooftop restaurant sp...</td>\n",
       "    </tr>\n",
       "    <tr>\n",
       "      <th>2777</th>\n",
       "      <td>husband &amp; dinner 10 year wedding anniversary ....</td>\n",
       "    </tr>\n",
       "    <tr>\n",
       "      <th>3469</th>\n",
       "      <td>food good customer service . ’ skip croissant ...</td>\n",
       "    </tr>\n",
       "    <tr>\n",
       "      <th>3956</th>\n",
       "      <td>say , customer service top notch . welcoming h...</td>\n",
       "    </tr>\n",
       "    <tr>\n",
       "      <th>5538</th>\n",
       "      <td>pleasant stay super view patong delicious food...</td>\n",
       "    </tr>\n",
       "    <tr>\n",
       "      <th>5938</th>\n",
       "      <td>great parking easy get restaurant , opposite c...</td>\n",
       "    </tr>\n",
       "    <tr>\n",
       "      <th>9713</th>\n",
       "      <td>al reviews really expected nice food ... order...</td>\n",
       "    </tr>\n",
       "    <tr>\n",
       "      <th>10108</th>\n",
       "      <td>first would like congratulate person design re...</td>\n",
       "    </tr>\n",
       "    <tr>\n",
       "      <th>10909</th>\n",
       "      <td>tried reading reviews menue extensive covers s...</td>\n",
       "    </tr>\n",
       "    <tr>\n",
       "      <th>10910</th>\n",
       "      <td>thank . happy find place understands gluten fr...</td>\n",
       "    </tr>\n",
       "    <tr>\n",
       "      <th>11105</th>\n",
       "      <td>chef nok amazing ! friend took cooking class c...</td>\n",
       "    </tr>\n",
       "    <tr>\n",
       "      <th>11206</th>\n",
       "      <td>little gem restaurant great place dine , good ...</td>\n",
       "    </tr>\n",
       "    <tr>\n",
       "      <th>11207</th>\n",
       "      <td>great food , awesome staff , fantastic live mu...</td>\n",
       "    </tr>\n",
       "    <tr>\n",
       "      <th>11208</th>\n",
       "      <td>food cocktails amazing . great live music atmo...</td>\n",
       "    </tr>\n",
       "    <tr>\n",
       "      <th>11209</th>\n",
       "      <td>wow , good place ? great food entertainment st...</td>\n",
       "    </tr>\n",
       "    <tr>\n",
       "      <th>11210</th>\n",
       "      <td>amazing food everything thai western , awesome...</td>\n",
       "    </tr>\n",
       "    <tr>\n",
       "      <th>11506</th>\n",
       "      <td>must say food great . serving authentic thai d...</td>\n",
       "    </tr>\n",
       "    <tr>\n",
       "      <th>12900</th>\n",
       "      <td>pleased come turkish people . workers smiling ...</td>\n",
       "    </tr>\n",
       "    <tr>\n",
       "      <th>13200</th>\n",
       "      <td>best thai meal yet patong . northern end paton...</td>\n",
       "    </tr>\n",
       "    <tr>\n",
       "      <th>14291</th>\n",
       "      <td>came wife adult daughter . ’ simple venue nice...</td>\n",
       "    </tr>\n",
       "    <tr>\n",
       "      <th>14785</th>\n",
       "      <td>indoor/ outdoor dining affordable pricing frie...</td>\n",
       "    </tr>\n",
       "    <tr>\n",
       "      <th>15279</th>\n",
       "      <td>dinner time always busy , went around 8.30 pm ...</td>\n",
       "    </tr>\n",
       "    <tr>\n",
       "      <th>19437</th>\n",
       "      <td>first time ever hard rock cafe everything ok n...</td>\n",
       "    </tr>\n",
       "    <tr>\n",
       "      <th>20222</th>\n",
       "      <td>one best mexican restaurants phuket , little w...</td>\n",
       "    </tr>\n",
       "    <tr>\n",
       "      <th>20607</th>\n",
       "      <td>well coke food papaya salad bad .. small porti...</td>\n",
       "    </tr>\n",
       "    <tr>\n",
       "      <th>21605</th>\n",
       "      <td>amazing service best south indian food town . ...</td>\n",
       "    </tr>\n",
       "    <tr>\n",
       "      <th>22700</th>\n",
       "      <td>1997 , told place popular australians . next l...</td>\n",
       "    </tr>\n",
       "    <tr>\n",
       "      <th>25787</th>\n",
       "      <td>food average cost , meal made unenjoyable loud...</td>\n",
       "    </tr>\n",
       "    <tr>\n",
       "      <th>26087</th>\n",
       "      <td>found place total chance , wow . great food gr...</td>\n",
       "    </tr>\n",
       "    <tr>\n",
       "      <th>26780</th>\n",
       "      <td>husband wonderful service , cocktails amazing ...</td>\n",
       "    </tr>\n",
       "    <tr>\n",
       "      <th>27080</th>\n",
       "      <td>around surin bangtao beach must try , regular ...</td>\n",
       "    </tr>\n",
       "  </tbody>\n",
       "</table>\n",
       "</div>"
      ],
      "text/plain": [
       "                                                  Review\n",
       "101    great variety greek dishes fantastic service ....\n",
       "1290   small business man keep roaming around . wonde...\n",
       "1494   awesome food quality try specially punjabi foo...\n",
       "1495   wife craving indian food thought ’ give place ...\n",
       "1692   good restaurant , friendly staff , recommend !...\n",
       "1693   good food friendly staff . indian food delicio...\n",
       "2191   recommended place fine like eat pork . joint v...\n",
       "2192   went tonight recommendation ta must say , ’ fu...\n",
       "2193   food lovely staff ! came cocktail shaking danc...\n",
       "2194   best meal service , food delicious many choice...\n",
       "2776   pleasure visiting sizzle rooftop restaurant sp...\n",
       "2777   husband & dinner 10 year wedding anniversary ....\n",
       "3469   food good customer service . ’ skip croissant ...\n",
       "3956   say , customer service top notch . welcoming h...\n",
       "5538   pleasant stay super view patong delicious food...\n",
       "5938   great parking easy get restaurant , opposite c...\n",
       "9713   al reviews really expected nice food ... order...\n",
       "10108  first would like congratulate person design re...\n",
       "10909  tried reading reviews menue extensive covers s...\n",
       "10910  thank . happy find place understands gluten fr...\n",
       "11105  chef nok amazing ! friend took cooking class c...\n",
       "11206  little gem restaurant great place dine , good ...\n",
       "11207  great food , awesome staff , fantastic live mu...\n",
       "11208  food cocktails amazing . great live music atmo...\n",
       "11209  wow , good place ? great food entertainment st...\n",
       "11210  amazing food everything thai western , awesome...\n",
       "11506  must say food great . serving authentic thai d...\n",
       "12900  pleased come turkish people . workers smiling ...\n",
       "13200  best thai meal yet patong . northern end paton...\n",
       "14291  came wife adult daughter . ’ simple venue nice...\n",
       "14785  indoor/ outdoor dining affordable pricing frie...\n",
       "15279  dinner time always busy , went around 8.30 pm ...\n",
       "19437  first time ever hard rock cafe everything ok n...\n",
       "20222  one best mexican restaurants phuket , little w...\n",
       "20607  well coke food papaya salad bad .. small porti...\n",
       "21605  amazing service best south indian food town . ...\n",
       "22700  1997 , told place popular australians . next l...\n",
       "25787  food average cost , meal made unenjoyable loud...\n",
       "26087  found place total chance , wow . great food gr...\n",
       "26780  husband wonderful service , cocktails amazing ...\n",
       "27080  around surin bangtao beach must try , regular ..."
      ]
     },
     "execution_count": 90,
     "metadata": {},
     "output_type": "execute_result"
    }
   ],
   "source": [
    "reviews['Review'].to_frame()"
   ]
  },
  {
   "cell_type": "code",
   "execution_count": null,
   "id": "85da824f",
   "metadata": {},
   "outputs": [],
   "source": []
  },
  {
   "cell_type": "code",
   "execution_count": null,
   "id": "e88b4241",
   "metadata": {},
   "outputs": [],
   "source": []
  },
  {
   "cell_type": "code",
   "execution_count": null,
   "id": "c5cf1770",
   "metadata": {},
   "outputs": [],
   "source": []
  },
  {
   "cell_type": "code",
   "execution_count": null,
   "id": "e319e31d",
   "metadata": {},
   "outputs": [],
   "source": []
  },
  {
   "cell_type": "code",
   "execution_count": 80,
   "id": "b0e79047",
   "metadata": {},
   "outputs": [
    {
     "ename": "NameError",
     "evalue": "name 'reviews' is not defined",
     "output_type": "error",
     "traceback": [
      "\u001b[1;31m---------------------------------------------------------------------------\u001b[0m",
      "\u001b[1;31mNameError\u001b[0m                                 Traceback (most recent call last)",
      "\u001b[1;32m~\\AppData\\Local\\Temp/ipykernel_22224/2813426983.py\u001b[0m in \u001b[0;36m<module>\u001b[1;34m\u001b[0m\n\u001b[1;32m----> 1\u001b[1;33m \u001b[0mreviews1\u001b[0m \u001b[1;33m=\u001b[0m \u001b[0mreviews\u001b[0m\u001b[1;33m.\u001b[0m\u001b[0mdrop_duplicates\u001b[0m\u001b[1;33m(\u001b[0m\u001b[1;33m)\u001b[0m\u001b[1;33m\u001b[0m\u001b[1;33m\u001b[0m\u001b[0m\n\u001b[0m",
      "\u001b[1;31mNameError\u001b[0m: name 'reviews' is not defined"
     ]
    }
   ],
   "source": []
  },
  {
   "cell_type": "code",
   "execution_count": null,
   "id": "2481ec80",
   "metadata": {},
   "outputs": [],
   "source": []
  },
  {
   "cell_type": "code",
   "execution_count": 91,
   "id": "e5208e09",
   "metadata": {},
   "outputs": [],
   "source": [
    "stemmer = PorterStemmer()\n",
    "def stemming(data):\n",
    "    text = [stemmer.stem(word) for word in data]\n",
    "    return data"
   ]
  },
  {
   "cell_type": "code",
   "execution_count": 92,
   "id": "544c9548",
   "metadata": {},
   "outputs": [],
   "source": [
    "reviews['Review'] = reviews['Review'].apply(lambda x: stemming(x))"
   ]
  },
  {
   "cell_type": "code",
   "execution_count": 93,
   "id": "374624fb",
   "metadata": {},
   "outputs": [
    {
     "data": {
      "text/html": [
       "<div>\n",
       "<style scoped>\n",
       "    .dataframe tbody tr th:only-of-type {\n",
       "        vertical-align: middle;\n",
       "    }\n",
       "\n",
       "    .dataframe tbody tr th {\n",
       "        vertical-align: top;\n",
       "    }\n",
       "\n",
       "    .dataframe thead th {\n",
       "        text-align: right;\n",
       "    }\n",
       "</style>\n",
       "<table border=\"1\" class=\"dataframe\">\n",
       "  <thead>\n",
       "    <tr style=\"text-align: right;\">\n",
       "      <th></th>\n",
       "      <th>Review</th>\n",
       "    </tr>\n",
       "  </thead>\n",
       "  <tbody>\n",
       "    <tr>\n",
       "      <th>101</th>\n",
       "      <td>great variety greek dishes fantastic service ....</td>\n",
       "    </tr>\n",
       "    <tr>\n",
       "      <th>1290</th>\n",
       "      <td>small business man keep roaming around . wonde...</td>\n",
       "    </tr>\n",
       "    <tr>\n",
       "      <th>1494</th>\n",
       "      <td>awesome food quality try specially punjabi foo...</td>\n",
       "    </tr>\n",
       "    <tr>\n",
       "      <th>1495</th>\n",
       "      <td>wife craving indian food thought ’ give place ...</td>\n",
       "    </tr>\n",
       "    <tr>\n",
       "      <th>1692</th>\n",
       "      <td>good restaurant , friendly staff , recommend !...</td>\n",
       "    </tr>\n",
       "  </tbody>\n",
       "</table>\n",
       "</div>"
      ],
      "text/plain": [
       "                                                 Review\n",
       "101   great variety greek dishes fantastic service ....\n",
       "1290  small business man keep roaming around . wonde...\n",
       "1494  awesome food quality try specially punjabi foo...\n",
       "1495  wife craving indian food thought ’ give place ...\n",
       "1692  good restaurant , friendly staff , recommend !..."
      ]
     },
     "execution_count": 93,
     "metadata": {},
     "output_type": "execute_result"
    }
   ],
   "source": [
    "reviews.head()"
   ]
  },
  {
   "cell_type": "code",
   "execution_count": 94,
   "id": "947fe800",
   "metadata": {},
   "outputs": [
    {
     "name": "stdout",
     "output_type": "stream",
     "text": [
      "great variety greek dishes fantastic service . staff friendly helpful . souvlaki , reasonably priced tasted great . \n",
      "\n",
      "small business man keep roaming around . wonder one evening eat ? find palm restaurent inside movenpick bangtao . meet hotel manager well . offer eat together one ... \n",
      "\n",
      "awesome food quality try specially punjabi food sweet gulab jamun phuket expected much tasty nice restaurant great service excellent food quality best indian food phuket \n",
      "\n",
      "wife craving indian food thought ’ give place shot . wow , exceed expectations ... location middle patong , close beach . service outstanding quick . food phenomenal tons ... \n",
      "\n",
      "good restaurant , friendly staff , recommend ! come sure ! < f0 > < u+009f > < u+0091 > < u+008d > < f0 > < u+009f > < u+0091 > < u+008d > \n",
      "\n",
      "good food friendly staff . indian food delicious cooked fast . staffed naan even better places india . highly recommend place ! \n",
      "\n"
     ]
    }
   ],
   "source": [
    "print(reviews['Review'].iloc[0], \"\\n\")\n",
    "print(reviews['Review'].iloc[1], \"\\n\")\n",
    "print(reviews['Review'].iloc[2], \"\\n\")\n",
    "print(reviews['Review'].iloc[3], \"\\n\")\n",
    "print(reviews['Review'].iloc[4], \"\\n\")\n",
    "print(reviews['Review'].iloc[5], \"\\n\")"
   ]
  },
  {
   "cell_type": "code",
   "execution_count": 95,
   "id": "26599e62",
   "metadata": {},
   "outputs": [
    {
     "name": "stdout",
     "output_type": "stream",
     "text": [
      "<class 'pandas.core.frame.DataFrame'>\n",
      "Int64Index: 41 entries, 101 to 27080\n",
      "Data columns (total 1 columns):\n",
      " #   Column  Non-Null Count  Dtype \n",
      "---  ------  --------------  ----- \n",
      " 0   Review  41 non-null     object\n",
      "dtypes: object(1)\n",
      "memory usage: 1.7+ KB\n"
     ]
    }
   ],
   "source": [
    "reviews.info()"
   ]
  },
  {
   "cell_type": "code",
   "execution_count": 96,
   "id": "143fa897",
   "metadata": {},
   "outputs": [],
   "source": [
    "def polarity(text):\n",
    "    return TextBlob(text).sentiment.polarity"
   ]
  },
  {
   "cell_type": "code",
   "execution_count": 97,
   "id": "f83cb95d",
   "metadata": {},
   "outputs": [],
   "source": [
    "reviews['polarity'] = reviews['Review'].apply(polarity)"
   ]
  },
  {
   "cell_type": "code",
   "execution_count": 98,
   "id": "1db265d2",
   "metadata": {},
   "outputs": [
    {
     "data": {
      "text/html": [
       "<div>\n",
       "<style scoped>\n",
       "    .dataframe tbody tr th:only-of-type {\n",
       "        vertical-align: middle;\n",
       "    }\n",
       "\n",
       "    .dataframe tbody tr th {\n",
       "        vertical-align: top;\n",
       "    }\n",
       "\n",
       "    .dataframe thead th {\n",
       "        text-align: right;\n",
       "    }\n",
       "</style>\n",
       "<table border=\"1\" class=\"dataframe\">\n",
       "  <thead>\n",
       "    <tr style=\"text-align: right;\">\n",
       "      <th></th>\n",
       "      <th>Review</th>\n",
       "      <th>polarity</th>\n",
       "    </tr>\n",
       "  </thead>\n",
       "  <tbody>\n",
       "    <tr>\n",
       "      <th>101</th>\n",
       "      <td>great variety greek dishes fantastic service ....</td>\n",
       "      <td>0.429167</td>\n",
       "    </tr>\n",
       "    <tr>\n",
       "      <th>1290</th>\n",
       "      <td>small business man keep roaming around . wonde...</td>\n",
       "      <td>-0.250000</td>\n",
       "    </tr>\n",
       "    <tr>\n",
       "      <th>1494</th>\n",
       "      <td>awesome food quality try specially punjabi foo...</td>\n",
       "      <td>0.578571</td>\n",
       "    </tr>\n",
       "    <tr>\n",
       "      <th>1495</th>\n",
       "      <td>wife craving indian food thought ’ give place ...</td>\n",
       "      <td>0.286667</td>\n",
       "    </tr>\n",
       "    <tr>\n",
       "      <th>1692</th>\n",
       "      <td>good restaurant , friendly staff , recommend !...</td>\n",
       "      <td>0.597917</td>\n",
       "    </tr>\n",
       "  </tbody>\n",
       "</table>\n",
       "</div>"
      ],
      "text/plain": [
       "                                                 Review  polarity\n",
       "101   great variety greek dishes fantastic service ....  0.429167\n",
       "1290  small business man keep roaming around . wonde... -0.250000\n",
       "1494  awesome food quality try specially punjabi foo...  0.578571\n",
       "1495  wife craving indian food thought ’ give place ...  0.286667\n",
       "1692  good restaurant , friendly staff , recommend !...  0.597917"
      ]
     },
     "execution_count": 98,
     "metadata": {},
     "output_type": "execute_result"
    }
   ],
   "source": [
    "reviews.head()"
   ]
  },
  {
   "cell_type": "code",
   "execution_count": 107,
   "id": "efddcdd9",
   "metadata": {},
   "outputs": [],
   "source": [
    "def sentiment(label):\n",
    "    if label <0:\n",
    "        return 'Negative'\n",
    "    elif label == 0:\n",
    "        return 'Neutral'\n",
    "   \n",
    "    elif label>0:\n",
    "        return 'Positive'"
   ]
  },
  {
   "cell_type": "code",
   "execution_count": 108,
   "id": "1696289a",
   "metadata": {},
   "outputs": [],
   "source": [
    "reviews['sentiment'] = reviews['polarity'].apply(sentiment)"
   ]
  },
  {
   "cell_type": "code",
   "execution_count": 109,
   "id": "7aa1d9df",
   "metadata": {},
   "outputs": [
    {
     "data": {
      "text/html": [
       "<div>\n",
       "<style scoped>\n",
       "    .dataframe tbody tr th:only-of-type {\n",
       "        vertical-align: middle;\n",
       "    }\n",
       "\n",
       "    .dataframe tbody tr th {\n",
       "        vertical-align: top;\n",
       "    }\n",
       "\n",
       "    .dataframe thead th {\n",
       "        text-align: right;\n",
       "    }\n",
       "</style>\n",
       "<table border=\"1\" class=\"dataframe\">\n",
       "  <thead>\n",
       "    <tr style=\"text-align: right;\">\n",
       "      <th></th>\n",
       "      <th>Review</th>\n",
       "      <th>polarity</th>\n",
       "      <th>sentiment</th>\n",
       "    </tr>\n",
       "  </thead>\n",
       "  <tbody>\n",
       "    <tr>\n",
       "      <th>101</th>\n",
       "      <td>great variety greek dishes fantastic service ....</td>\n",
       "      <td>0.429167</td>\n",
       "      <td>Positive</td>\n",
       "    </tr>\n",
       "    <tr>\n",
       "      <th>1290</th>\n",
       "      <td>small business man keep roaming around . wonde...</td>\n",
       "      <td>-0.250000</td>\n",
       "      <td>Negative</td>\n",
       "    </tr>\n",
       "    <tr>\n",
       "      <th>1494</th>\n",
       "      <td>awesome food quality try specially punjabi foo...</td>\n",
       "      <td>0.578571</td>\n",
       "      <td>Positive</td>\n",
       "    </tr>\n",
       "    <tr>\n",
       "      <th>1495</th>\n",
       "      <td>wife craving indian food thought ’ give place ...</td>\n",
       "      <td>0.286667</td>\n",
       "      <td>Positive</td>\n",
       "    </tr>\n",
       "    <tr>\n",
       "      <th>1692</th>\n",
       "      <td>good restaurant , friendly staff , recommend !...</td>\n",
       "      <td>0.597917</td>\n",
       "      <td>Positive</td>\n",
       "    </tr>\n",
       "  </tbody>\n",
       "</table>\n",
       "</div>"
      ],
      "text/plain": [
       "                                                 Review  polarity sentiment\n",
       "101   great variety greek dishes fantastic service ....  0.429167  Positive\n",
       "1290  small business man keep roaming around . wonde... -0.250000  Negative\n",
       "1494  awesome food quality try specially punjabi foo...  0.578571  Positive\n",
       "1495  wife craving indian food thought ’ give place ...  0.286667  Positive\n",
       "1692  good restaurant , friendly staff , recommend !...  0.597917  Positive"
      ]
     },
     "execution_count": 109,
     "metadata": {},
     "output_type": "execute_result"
    }
   ],
   "source": [
    "reviews.head()"
   ]
  },
  {
   "cell_type": "code",
   "execution_count": 110,
   "id": "d720294e",
   "metadata": {},
   "outputs": [
    {
     "data": {
      "image/png": "[encoded data removed]",
      "text/plain": [
       "<Figure size 360x360 with 1 Axes>"
      ]
     },
     "metadata": {
      "needs_background": "light"
     },
     "output_type": "display_data"
    }
   ],
   "source": [
    "fig = plt.figure(figsize=(5,5))\n",
    "\n",
    "sns.countplot(x='sentiment', data=reviews);"
   ]
  },
  {
   "cell_type": "code",
   "execution_count": 112,
   "id": "df5f82e6",
   "metadata": {
    "scrolled": true
   },
   "outputs": [
    {
     "data": {
      "text/plain": [
       "Text(0.5, 1.0, 'Distribution of Sentiments')"
      ]
     },
     "execution_count": 112,
     "metadata": {},
     "output_type": "execute_result"
    },
    {
     "data": {
      "image/png": "[encoded data removed]",
      "text/plain": [
       "<Figure size 360x360 with 1 Axes>"
      ]
     },
     "metadata": {},
     "output_type": "display_data"
    }
   ],
   "source": [
    "fig = plt.figure(figsize=(5,5))\n",
    "colors = ('yellowgreen', 'gold', 'red')\n",
    "wp = {'linewidth':2, 'edgecolor': 'black'}\n",
    "tags = reviews['sentiment'].value_counts()\n",
    "explode = (0.1,0.1, 0.1)\n",
    "tags.plot(kind='pie', autopct='%1.1f%%', shadow=True, colors=colors,\n",
    "         startangle=90, wedgeprops=wp, explode=explode, label='')\n",
    "plt.title('Distribution of Sentiments')"
   ]
  },
  {
   "cell_type": "code",
   "execution_count": null,
   "id": "36443c79",
   "metadata": {},
   "outputs": [],
   "source": []
  },
  {
   "cell_type": "code",
   "execution_count": null,
   "id": "379ee5d2",
   "metadata": {},
   "outputs": [],
   "source": []
  },
  {
   "cell_type": "code",
   "execution_count": null,
   "id": "b23402a5",
   "metadata": {},
   "outputs": [],
   "source": []
  },
  {
   "cell_type": "code",
   "execution_count": null,
   "id": "2208e9da",
   "metadata": {},
   "outputs": [],
   "source": []
  },
  {
   "cell_type": "code",
   "execution_count": null,
   "id": "311d5fbf",
   "metadata": {},
   "outputs": [],
   "source": []
  },
  {
   "cell_type": "code",
   "execution_count": null,
   "id": "8d541525",
   "metadata": {},
   "outputs": [],
   "source": []
  },
  {
   "cell_type": "code",
   "execution_count": null,
   "id": "edfff48e",
   "metadata": {},
   "outputs": [],
   "source": []
  },
  {
   "cell_type": "code",
   "execution_count": null,
   "id": "853da9b7",
   "metadata": {},
   "outputs": [],
   "source": []
  },
  {
   "cell_type": "code",
   "execution_count": null,
   "id": "e18eb69e",
   "metadata": {},
   "outputs": [],
   "source": []
  },
  {
   "cell_type": "code",
   "execution_count": null,
   "id": "1c63aa80",
   "metadata": {},
   "outputs": [],
   "source": []
  },
  {
   "cell_type": "code",
   "execution_count": null,
   "id": "722e9d6e",
   "metadata": {},
   "outputs": [],
   "source": []
  },
  {
   "cell_type": "code",
   "execution_count": null,
   "id": "79b655e7",
   "metadata": {},
   "outputs": [],
   "source": []
  },
  {
   "cell_type": "code",
   "execution_count": null,
   "id": "4bbd89b9",
   "metadata": {},
   "outputs": [],
   "source": []
  },
  {
   "cell_type": "code",
   "execution_count": null,
   "id": "b09cf805",
   "metadata": {},
   "outputs": [],
   "source": []
  },
  {
   "cell_type": "code",
   "execution_count": null,
   "id": "09061687",
   "metadata": {},
   "outputs": [],
   "source": []
  },
  {
   "cell_type": "code",
   "execution_count": null,
   "id": "da198a0b",
   "metadata": {},
   "outputs": [],
   "source": []
  },
  {
   "cell_type": "code",
   "execution_count": null,
   "id": "3bf55398",
   "metadata": {},
   "outputs": [],
   "source": []
  },
  {
   "cell_type": "code",
   "execution_count": null,
   "id": "440f322e",
   "metadata": {},
   "outputs": [],
   "source": []
  },
  {
   "cell_type": "code",
   "execution_count": null,
   "id": "98b35b17",
   "metadata": {},
   "outputs": [],
   "source": []
  },
  {
   "cell_type": "code",
   "execution_count": null,
   "id": "160460fc",
   "metadata": {},
   "outputs": [],
   "source": []
  },
  {
   "cell_type": "code",
   "execution_count": null,
   "id": "012880cb",
   "metadata": {},
   "outputs": [],
   "source": []
  },
  {
   "cell_type": "code",
   "execution_count": null,
   "id": "a1e25807",
   "metadata": {},
   "outputs": [],
   "source": []
  },
  {
   "cell_type": "code",
   "execution_count": null,
   "id": "a7f8dbbe",
   "metadata": {},
   "outputs": [],
   "source": []
  },
  {
   "cell_type": "code",
   "execution_count": null,
   "id": "c999ca12",
   "metadata": {},
   "outputs": [],
   "source": []
  },
  {
   "cell_type": "code",
   "execution_count": null,
   "id": "98e06c38",
   "metadata": {},
   "outputs": [],
   "source": []
  },
  {
   "cell_type": "code",
   "execution_count": null,
   "id": "0c02198b",
   "metadata": {},
   "outputs": [],
   "source": []
  },
  {
   "cell_type": "code",
   "execution_count": null,
   "id": "27f534f0",
   "metadata": {},
   "outputs": [],
   "source": []
  },
  {
   "cell_type": "code",
   "execution_count": null,
   "id": "2dc0e898",
   "metadata": {},
   "outputs": [],
   "source": []
  },
  {
   "cell_type": "code",
   "execution_count": null,
   "id": "f3adf123",
   "metadata": {},
   "outputs": [],
   "source": []
  },
  {
   "cell_type": "code",
   "execution_count": null,
   "id": "ecc5cbda",
   "metadata": {},
   "outputs": [],
   "source": []
  },
  {
   "cell_type": "code",
   "execution_count": null,
   "id": "baa544da",
   "metadata": {},
   "outputs": [],
   "source": []
  },
  {
   "cell_type": "code",
   "execution_count": null,
   "id": "1e2fb241",
   "metadata": {},
   "outputs": [],
   "source": []
  },
  {
   "cell_type": "code",
   "execution_count": null,
   "id": "e47a17c6",
   "metadata": {},
   "outputs": [],
   "source": []
  },
  {
   "cell_type": "code",
   "execution_count": null,
   "id": "e752c788",
   "metadata": {},
   "outputs": [],
   "source": []
  }
 ],
 "metadata": {
  "kernelspec": {
   "display_name": "Python 3 (ipykernel)",
   "language": "python",
   "name": "python3"
  },
  "language_info": {
   "codemirror_mode": {
    "name": "ipython",
    "version": 3
   },
   "file_extension": ".py",
   "mimetype": "text/x-python",
   "name": "python",
   "nbconvert_exporter": "python",
   "pygments_lexer": "ipython3",
   "version": "3.9.7"
  }
 },
 "nbformat": 4,
 "nbformat_minor": 5
}
